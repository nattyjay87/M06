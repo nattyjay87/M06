{
 "cells": [
  {
   "cell_type": "code",
   "execution_count": 1,
   "id": "6d876c1f",
   "metadata": {},
   "outputs": [
    {
     "name": "stdout",
     "output_type": "stream",
     "text": [
      "Current date: 2024-02-20\n",
      "Read from file: 2024-02-20\n",
      "Parsed date: 2024-02-20 00:00:00\n"
     ]
    }
   ],
   "source": [
    "from datetime import datetime\n",
    "\n",
    "# Write the current date to today.txt\n",
    "current_date = datetime.now().strftime('%Y-%m-%d')\n",
    "with open('today.txt', 'w') as file:\n",
    "    file.write(current_date)\n",
    "\n",
    "# Read the content of today.txt into today_string\n",
    "with open('today.txt', 'r') as file:\n",
    "    today_string = file.read()\n",
    "\n",
    "# Parse the date from today_string\n",
    "parsed_date = datetime.strptime(today_string, '%Y-%m-%d')\n",
    "\n",
    "print(\"Current date:\", current_date)\n",
    "print(\"Read from file:\", today_string)\n",
    "print(\"Parsed date:\", parsed_date)\n"
   ]
  },
  {
   "cell_type": "code",
   "execution_count": 2,
   "id": "21c0360b",
   "metadata": {},
   "outputs": [
    {
     "name": "stdout",
     "output_type": "stream",
     "text": [
      "All processes have finished.\n"
     ]
    }
   ],
   "source": [
    "import multiprocessing\n",
    "import time\n",
    "from datetime import datetime\n",
    "\n",
    "def process_function():\n",
    "    # Generate a random sleep time between 0 and 1 seconds\n",
    "    sleep_time = 1.0 * multiprocessing.current_process().name[-1]\n",
    "\n",
    "    # Sleep for the random time\n",
    "    time.sleep(sleep_time)\n",
    "\n",
    "    # Print the current time after sleeping\n",
    "    current_time = datetime.now().strftime('%H:%M:%S')\n",
    "    print(f\"Process {multiprocessing.current_process().name} - Current Time: {current_time}\")\n",
    "\n",
    "if __name__ == \"__main__\":\n",
    "    # Create three separate processes\n",
    "    processes = [multiprocessing.Process(target=process_function) for _ in range(3)]\n",
    "\n",
    "    # Start each process\n",
    "    for process in processes:\n",
    "        process.start()\n",
    "\n",
    "    # Wait for each process to finish\n",
    "    for process in processes:\n",
    "        process.join()\n",
    "\n",
    "    print(\"All processes have finished.\")\n"
   ]
  },
  {
   "cell_type": "code",
   "execution_count": null,
   "id": "4dfae477",
   "metadata": {},
   "outputs": [],
   "source": []
  }
 ],
 "metadata": {
  "kernelspec": {
   "display_name": "Python 3 (ipykernel)",
   "language": "python",
   "name": "python3"
  },
  "language_info": {
   "codemirror_mode": {
    "name": "ipython",
    "version": 3
   },
   "file_extension": ".py",
   "mimetype": "text/x-python",
   "name": "python",
   "nbconvert_exporter": "python",
   "pygments_lexer": "ipython3",
   "version": "3.11.5"
  }
 },
 "nbformat": 4,
 "nbformat_minor": 5
}
